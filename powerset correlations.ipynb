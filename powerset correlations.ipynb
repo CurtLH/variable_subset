{
 "cells": [
  {
   "cell_type": "code",
   "execution_count": 1,
   "metadata": {},
   "outputs": [],
   "source": [
    "import random\n",
    "import numpy as np\n",
    "import pandas as pd\n",
    "from itertools import chain, combinations"
   ]
  },
  {
   "cell_type": "code",
   "execution_count": 2,
   "metadata": {},
   "outputs": [],
   "source": [
    "# initial parameters\n",
    "random.seed(1234)\n",
    "num_ids = 1000\n",
    "num_vars = 10\n",
    "\n",
    "# create repeating IDs\n",
    "ids = sorted(list(range(0, num_ids)) * num_vars)\n",
    "\n",
    "# create repeating variables\n",
    "variables = list(range(0, num_vars)) * num_ids\n",
    "\n",
    "# create random integers\n",
    "values = np.random.randint(1, 5, size = num_ids * num_vars)"
   ]
  },
  {
   "cell_type": "code",
   "execution_count": 3,
   "metadata": {},
   "outputs": [],
   "source": [
    "# create a dataframe with these values\n",
    "df = pd.DataFrame({\"id\": ids, \"variable\": variables, \"values\": values})\n",
    "\n",
    "# sort the dataframe\n",
    "df.sort_values(['id', 'variable'], inplace=True)"
   ]
  },
  {
   "cell_type": "code",
   "execution_count": 4,
   "metadata": {},
   "outputs": [],
   "source": [
    "def powerset(iterable):\n",
    "    \"\"\"\n",
    "    Thanks to https://stackoverflow.com/questions/1482308\n",
    "    \"\"\"\n",
    "    s = list(iterable)\n",
    "    return chain.from_iterable(combinations(s, r) for r in range(len(s)+1))"
   ]
  },
  {
   "cell_type": "code",
   "execution_count": 5,
   "metadata": {},
   "outputs": [
    {
     "data": {
      "text/plain": [
       "1024"
      ]
     },
     "execution_count": 5,
     "metadata": {},
     "output_type": "execute_result"
    }
   ],
   "source": [
    "# create every subset of variables\n",
    "subsets = list(powerset(set(variables)))\n",
    "\n",
    "# how many items?\n",
    "len(subsets)"
   ]
  },
  {
   "cell_type": "code",
   "execution_count": 6,
   "metadata": {},
   "outputs": [],
   "source": [
    "# calculate the average value by ID when including all variables\n",
    "actual = df.groupby('id')['values'].mean()"
   ]
  },
  {
   "cell_type": "code",
   "execution_count": 7,
   "metadata": {},
   "outputs": [],
   "source": [
    "def calculate(df, subsets):\n",
    "    \n",
    "    \"\"\"\n",
    "    1. Iterate over each permutation of variables\n",
    "    2. Subset the dataframe to only include those variables\n",
    "    3. Group by ID and recalculate the mean values per ID\n",
    "    4. Measure correlation compared to complete set of variables\n",
    "    \"\"\"\n",
    "\n",
    "    # create a dictionary to hold the results\n",
    "    results = {}\n",
    "\n",
    "    # iterate over each subset\n",
    "    for s in subsets:\n",
    "\n",
    "        # make sure there is at least 1 variable...\n",
    "        if len(s) > 0:\n",
    "\n",
    "            # filter the dataframe to only the variables in the subset\n",
    "            sub = df[df['variable'].isin(s)]\n",
    "\n",
    "            # group by ID and calculate average value\n",
    "            scores = sub.groupby('id')['values'].mean()\n",
    "\n",
    "            # calculate correlation with complete set of variables\n",
    "            corr = actual.corr(scores)\n",
    "\n",
    "            # add results to dictionary\n",
    "            results[s] = {'num_items': len(s),\n",
    "                          'correlation': corr}\n",
    "\n",
    "    return results"
   ]
  },
  {
   "cell_type": "code",
   "execution_count": 8,
   "metadata": {},
   "outputs": [
    {
     "name": "stdout",
     "output_type": "stream",
     "text": [
      "2.26 s ± 7.39 ms per loop (mean ± std. dev. of 7 runs, 1 loop each)\n"
     ]
    }
   ],
   "source": [
    "# time how long it takes to run\n",
    "%timeit results = calculate(df, subsets)"
   ]
  }
 ],
 "metadata": {
  "kernelspec": {
   "display_name": "Python 3",
   "language": "python",
   "name": "python3"
  },
  "language_info": {
   "codemirror_mode": {
    "name": "ipython",
    "version": 3
   },
   "file_extension": ".py",
   "mimetype": "text/x-python",
   "name": "python",
   "nbconvert_exporter": "python",
   "pygments_lexer": "ipython3",
   "version": "3.7.2"
  }
 },
 "nbformat": 4,
 "nbformat_minor": 2
}
