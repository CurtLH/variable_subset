{
 "cells": [
  {
   "cell_type": "code",
   "execution_count": 1,
   "metadata": {},
   "outputs": [],
   "source": [
    "import random\n",
    "import numpy as np\n",
    "import pandas as pd\n",
    "from itertools import chain, combinations"
   ]
  },
  {
   "cell_type": "code",
   "execution_count": 2,
   "metadata": {},
   "outputs": [],
   "source": [
    "# initial parameters\n",
    "random.seed(1234)\n",
    "num_ids = 10000\n",
    "num_vars = 10\n",
    "\n",
    "# create repeating IDs\n",
    "ids = sorted(list(range(0, num_ids)) * num_vars)\n",
    "\n",
    "# create repeating variables\n",
    "variables = list(range(0, num_vars)) * num_ids\n",
    "\n",
    "# create random integers\n",
    "values = np.random.randint(1, 5, size = num_ids * num_vars)"
   ]
  },
  {
   "cell_type": "code",
   "execution_count": 3,
   "metadata": {},
   "outputs": [],
   "source": [
    "# create a dataframe with these values\n",
    "df = pd.DataFrame({\"id\": ids, \"variable\": variables, \"values\": values})\n",
    "\n",
    "# sort the dataframe\n",
    "df.sort_values(['id', 'variable'], inplace=True)"
   ]
  },
  {
   "cell_type": "code",
   "execution_count": 4,
   "metadata": {},
   "outputs": [],
   "source": [
    "def powerset(iterable):\n",
    "    \"\"\"\n",
    "    Thanks to https://stackoverflow.com/questions/1482308\n",
    "    \"\"\"\n",
    "    s = list(iterable)\n",
    "    return chain.from_iterable(combinations(s, r) for r in range(len(s)+1))"
   ]
  },
  {
   "cell_type": "code",
   "execution_count": 5,
   "metadata": {},
   "outputs": [
    {
     "data": {
      "text/plain": [
       "1024"
      ]
     },
     "execution_count": 5,
     "metadata": {},
     "output_type": "execute_result"
    }
   ],
   "source": [
    "# create every subset of variables\n",
    "subsets = list(powerset(set(variables)))\n",
    "\n",
    "# how many items?\n",
    "len(subsets)"
   ]
  },
  {
   "cell_type": "code",
   "execution_count": 9,
   "metadata": {},
   "outputs": [],
   "source": [
    "def calculate(df, variables):\n",
    "    \n",
    "    \"\"\"\n",
    "    Subset the dataframe to only include specified variables\n",
    "    and calculate the average scores per ID\n",
    "    \"\"\"\n",
    "    \n",
    "    # filter the dataframe to only the variables in the subset\n",
    "    sub = df[df['variable'].isin(variables)]\n",
    "\n",
    "    # group by ID and calculate average value\n",
    "    scores = sub.groupby('id')['values'].mean()\n",
    "    \n",
    "    return scores"
   ]
  },
  {
   "cell_type": "code",
   "execution_count": 10,
   "metadata": {},
   "outputs": [],
   "source": [
    "def correlalate(actual, subset):\n",
    "    \n",
    "    \"\"\"\n",
    "    Calculate the correlation between the actual and subset\n",
    "    \"\"\"\n",
    "    \n",
    "    return actual.corr(subset)"
   ]
  },
  {
   "cell_type": "code",
   "execution_count": 12,
   "metadata": {},
   "outputs": [
    {
     "data": {
      "text/plain": [
       "0.7091866206463525"
      ]
     },
     "execution_count": 12,
     "metadata": {},
     "output_type": "execute_result"
    }
   ],
   "source": [
    "# calculate actual values\n",
    "actual = calculate(df, set(variables))\n",
    "subset = calculate(df, list(set(variables))[:5])\n",
    "cor = correlalate(actual, subset)"
   ]
  },
  {
   "cell_type": "code",
   "execution_count": 13,
   "metadata": {},
   "outputs": [
    {
     "name": "stdout",
     "output_type": "stream",
     "text": [
      "CPU times: user 5.36 s, sys: 12 ms, total: 5.38 s\n",
      "Wall time: 5.38 s\n"
     ]
    }
   ],
   "source": [
    "%%time\n",
    "\n",
    "# create a dictionary to hold the results\n",
    "results = []\n",
    "\n",
    "# iterate over each subset\n",
    "for s in subsets:\n",
    "\n",
    "    # make sure there is at least 1 variable...\n",
    "    if len(s) > 0:\n",
    "        \n",
    "        # calculate the values on the filtered dataframe\n",
    "        sub = calculate(df, s)\n",
    "        \n",
    "        # calculate the correlation\n",
    "        corr = correlalate(actual, sub)\n",
    "\n",
    "        # add results to dictionary\n",
    "        results.append((s, corr))"
   ]
  },
  {
   "cell_type": "code",
   "execution_count": null,
   "metadata": {},
   "outputs": [],
   "source": []
  }
 ],
 "metadata": {
  "kernelspec": {
   "display_name": "Python 3",
   "language": "python",
   "name": "python3"
  },
  "language_info": {
   "codemirror_mode": {
    "name": "ipython",
    "version": 3
   },
   "file_extension": ".py",
   "mimetype": "text/x-python",
   "name": "python",
   "nbconvert_exporter": "python",
   "pygments_lexer": "ipython3",
   "version": "3.7.3"
  }
 },
 "nbformat": 4,
 "nbformat_minor": 2
}
